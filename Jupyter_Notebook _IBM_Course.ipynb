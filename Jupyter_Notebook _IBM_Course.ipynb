{
  "metadata": {
    "kernelspec": {
      "name": "python",
      "display_name": "Pyolite",
      "language": "python"
    },
    "language_info": {
      "codemirror_mode": {
        "name": "python",
        "version": 3
      },
      "file_extension": ".py",
      "mimetype": "text/x-python",
      "name": "python",
      "nbconvert_exporter": "python",
      "pygments_lexer": "ipython3",
      "version": "3.8"
    }
  },
  "nbformat_minor": 4,
  "nbformat": 4,
  "cells": [
    {
      "cell_type": "markdown",
      "source": "<center>\n    <img src=\"https://cf-courses-data.s3.us.cloud-object-storage.appdomain.cloud/IBMDeveloperSkillsNetwork-DS0105EN-SkillsNetwork/labs/Module2/images/SN_web_lightmode.png\" width=\"300\" alt=\"cognitiveclass.ai logo\">\n</center>\n",
      "metadata": {}
    },
    {
      "cell_type": "markdown",
      "source": "#### Add your code below following the instructions given in the course\n",
      "metadata": {}
    },
    {
      "cell_type": "markdown",
      "source": "<H1>My Jupyter Notebook on IBM Watson Studio</H1>",
      "metadata": {}
    },
    {
      "cell_type": "markdown",
      "source": "<b>Menka Goyal </b>\n<br>\nData Scientist",
      "metadata": {}
    },
    {
      "cell_type": "markdown",
      "source": "<i>I am intesrested in this innovative field of datascience because I would like to explore the insights in data and use it to solve real world scenarios. Not to forget the main aim ,earn some handsome amount to reinvest in my learning and to grow in this field :)</i>",
      "metadata": {}
    },
    {
      "cell_type": "markdown",
      "source": "<H3> Below code is to swap the values of two variables and print the new values of the variables </H3>",
      "metadata": {}
    },
    {
      "cell_type": "code",
      "source": "#initialise the two variables\na=5\nb=6\n\n#print old values of the variables\nprint (\"Old value of a =\" , a)\nprint (\"Old value of b =\" , b)\n\n#implement the swapping logic\nc=a\na=b\nb=c\n\n#print new values of the variables\nprint(\"\\n\")\nprint (\"New value of a =\" , a)\nprint (\"New value of b =\" , b)",
      "metadata": {
        "trusted": true
      },
      "execution_count": 2,
      "outputs": [
        {
          "name": "stdout",
          "text": "Old value of a = 5\nOld value of b = 6\n\n\nNew value of a = 6\nNew value of b = 5\n",
          "output_type": "stream"
        }
      ]
    },
    {
      "cell_type": "markdown",
      "source": "<h2> an <s>unordered</s> html list</h2>\n<ol>\n  <li>Rstudio</li>\n  <li>Jupyter Notebook</li>\n  <li>Watson Studio</li>\n</ol>\n\n<h2> an unordered html list</h2>\n<ul>\n  <li>Rstudio</li>\n  <li>Jupyter Notebook</li>\n  <li>Watson Studio</li>\n</ul>",
      "metadata": {}
    },
    {
      "cell_type": "code",
      "source": "",
      "metadata": {},
      "execution_count": null,
      "outputs": []
    }
  ]
}